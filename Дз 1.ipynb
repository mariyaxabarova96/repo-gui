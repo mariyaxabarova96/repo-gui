{
 "cells": [
  {
   "cell_type": "markdown",
   "metadata": {},
   "source": [
    "Посмотреть документацию к API GitHub, разобраться как вывести список репозиториев для конкретного пользователя, сохранить JSON-вывод в файле *.json."
   ]
  },
  {
   "cell_type": "code",
   "execution_count": 62,
   "metadata": {},
   "outputs": [],
   "source": [
    "import requests\n",
    "import json"
   ]
  },
  {
   "cell_type": "code",
   "execution_count": 7,
   "metadata": {},
   "outputs": [],
   "source": [
    "url = 'https://api.github.com'\n",
    "user= 'mariyaxabarova96'\n",
    "response = requests.get(url)"
   ]
  },
  {
   "cell_type": "code",
   "execution_count": 69,
   "metadata": {},
   "outputs": [],
   "source": [
    "r = requests.get(f'{url}/users/{user}/repos')\n",
    "with open('data.json', 'w') as f:\n",
    "    json.dump(r.json(), f)"
   ]
  },
  {
   "cell_type": "code",
   "execution_count": 4,
   "metadata": {},
   "outputs": [
    {
     "name": "stdout",
     "output_type": "stream",
     "text": [
      "-\n",
      "MySQL\n",
      "python\n",
      "Python-DataScience\n",
      "repo\n",
      "repo-gui\n"
     ]
    }
   ],
   "source": [
    "for i in r.json():\n",
    "    print(i['name'])"
   ]
  },
  {
   "cell_type": "code",
   "execution_count": 57,
   "metadata": {},
   "outputs": [
    {
     "data": {
      "text/plain": [
       "200"
      ]
     },
     "execution_count": 57,
     "metadata": {},
     "output_type": "execute_result"
    }
   ],
   "source": [
    "response.status_code"
   ]
  },
  {
   "cell_type": "markdown",
   "metadata": {},
   "source": [
    "Изучить список открытых API. Найти среди них любое, требующее авторизацию (любого типа). Выполнить запросы к нему, пройдя авторизацию. Ответ сервера записать в файл."
   ]
  },
  {
   "cell_type": "code",
   "execution_count": 60,
   "metadata": {},
   "outputs": [],
   "source": [
    "url = 'https://api.nasa.gov/planetary/apod'\n",
    "q = {\n",
    "    'api_key': '9gOfWNBhbf8hKsCF3vQsVaoqG6qDSgKq1dfFn0ys'\n",
    "}"
   ]
  },
  {
   "cell_type": "code",
   "execution_count": 64,
   "metadata": {},
   "outputs": [],
   "source": [
    "response = requests.get(url, params = q)"
   ]
  },
  {
   "cell_type": "code",
   "execution_count": 65,
   "metadata": {},
   "outputs": [],
   "source": [
    "otvet = response.json()"
   ]
  },
  {
   "cell_type": "code",
   "execution_count": 66,
   "metadata": {},
   "outputs": [
    {
     "name": "stdout",
     "output_type": "stream",
     "text": [
      "{'date': '2021-10-04', 'explanation': 'These two mighty galaxies are pulling each other apart.  Known as the \"Mice\" because they have such long tails, each spiral galaxy has likely already passed through the other. The long tails are created by the relative difference between gravitational pulls on the near and far parts of each galaxy.  Because the distances are so large, the cosmic interaction takes place in slow motion -- over hundreds of millions of years.  NGC 4676 lies about 300 million light-years away toward the constellation of Bernice\\'s Hair (Coma Berenices) and are  likely members of the Coma Cluster of Galaxies.  The featured picture was taken with the Hubble Space Telescope\\'s Advanced Camera for Surveys in 2002. These galactic mice will probably collide again and again over the next billion years so that, instead of continuing to pull each other apart, they coalesce to form a single galaxy.   Follow APOD in English on: Facebook,  Instagram, or Twitter', 'hdurl': 'https://apod.nasa.gov/apod/image/2110/NGC4676_HubbleOstling_4555.jpg', 'media_type': 'image', 'service_version': 'v1', 'title': 'NGC 4676: When Mice Collide', 'url': 'https://apod.nasa.gov/apod/image/2110/NGC4676_HubbleOstling_960.jpg'}\n"
     ]
    }
   ],
   "source": [
    "print(otvet)"
   ]
  },
  {
   "cell_type": "code",
   "execution_count": 67,
   "metadata": {},
   "outputs": [],
   "source": [
    "result = requests.get(url, params = q)\n",
    "with open('result.json', 'w') as f:\n",
    "    json.dump(result.json(), f)"
   ]
  }
 ],
 "metadata": {
  "kernelspec": {
   "display_name": "Python 3",
   "language": "python",
   "name": "python3"
  },
  "language_info": {
   "codemirror_mode": {
    "name": "ipython",
    "version": 3
   },
   "file_extension": ".py",
   "mimetype": "text/x-python",
   "name": "python",
   "nbconvert_exporter": "python",
   "pygments_lexer": "ipython3",
   "version": "3.7.4"
  }
 },
 "nbformat": 4,
 "nbformat_minor": 2
}
